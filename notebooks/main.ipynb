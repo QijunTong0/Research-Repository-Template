{
  "cells": [
    {
      "cell_type": "code",
      "execution_count": 1,
      "id": "90150f8a",
      "metadata": {},
      "outputs": [],
      "source": [
        "from hello_world import hello_world"
      ]
    },
    {
      "cell_type": "code",
      "execution_count": 2,
      "id": "974c6f4f",
      "metadata": {},
      "outputs": [
        {
          "data": {
            "text/plain": [
              "'Hello World!'"
            ]
          },
          "execution_count": 2,
          "metadata": {},
          "output_type": "execute_result"
        }
      ],
      "source": [
        "hello_world()"
      ]
    },
    {
      "cell_type": "code",
      "execution_count": null,
      "id": "126528b8",
      "metadata": {},
      "outputs": [],
      "source": []
    }
  ],
  "metadata": {
    "kernelspec": {
      "display_name": "research-repository-template",
      "language": "python",
      "name": "python3"
    },
    "language_info": {
      "codemirror_mode": {
        "name": "ipython",
        "version": 3
      },
      "file_extension": ".py",
      "mimetype": "text/x-python",
      "name": "python",
      "nbconvert_exporter": "python",
      "pygments_lexer": "ipython3",
      "version": "3.14.0"
    }
  },
  "nbformat": 4,
  "nbformat_minor": 5
}
